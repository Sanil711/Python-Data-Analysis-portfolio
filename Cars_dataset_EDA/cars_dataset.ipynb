{
 "cells": [
  {
   "cell_type": "markdown",
   "id": "b55dca82-4925-4806-846e-a2d1a4953877",
   "metadata": {},
   "source": [
    "---\n",
    "# `Cars Dataset - Exploratory Data Analysis`\n",
    "---"
   ]
  },
  {
   "cell_type": "code",
   "execution_count": 1,
   "id": "1e2d36e1-2607-4239-b386-a77461d40adc",
   "metadata": {},
   "outputs": [],
   "source": [
    "import pandas as pd\n",
    "import numpy as np\n",
    "import matplotlib.pyplot as plt\n",
    "import seaborn as sns\n",
    "\n",
    "sns.set(color_codes=True)\n",
    "\n",
    "import warnings\n",
    "warnings.filterwarnings(\"ignore\")"
   ]
  },
  {
   "cell_type": "code",
   "execution_count": 2,
   "id": "eb672704-89ef-4677-b71a-24362445b886",
   "metadata": {},
   "outputs": [
    {
     "data": {
      "text/html": [
       "<div>\n",
       "<style scoped>\n",
       "    .dataframe tbody tr th:only-of-type {\n",
       "        vertical-align: middle;\n",
       "    }\n",
       "\n",
       "    .dataframe tbody tr th {\n",
       "        vertical-align: top;\n",
       "    }\n",
       "\n",
       "    .dataframe thead th {\n",
       "        text-align: right;\n",
       "    }\n",
       "</style>\n",
       "<table border=\"1\" class=\"dataframe\">\n",
       "  <thead>\n",
       "    <tr style=\"text-align: right;\">\n",
       "      <th></th>\n",
       "      <th>Make</th>\n",
       "      <th>Model</th>\n",
       "      <th>Year</th>\n",
       "      <th>Engine Fuel Type</th>\n",
       "      <th>Engine HP</th>\n",
       "      <th>Engine Cylinders</th>\n",
       "      <th>Transmission Type</th>\n",
       "      <th>Driven_Wheels</th>\n",
       "      <th>Number of Doors</th>\n",
       "      <th>Market Category</th>\n",
       "      <th>Vehicle Size</th>\n",
       "      <th>Vehicle Style</th>\n",
       "      <th>highway MPG</th>\n",
       "      <th>city mpg</th>\n",
       "      <th>Popularity</th>\n",
       "      <th>MSRP</th>\n",
       "    </tr>\n",
       "  </thead>\n",
       "  <tbody>\n",
       "    <tr>\n",
       "      <th>0</th>\n",
       "      <td>BMW</td>\n",
       "      <td>1 Series M</td>\n",
       "      <td>2011</td>\n",
       "      <td>premium unleaded (required)</td>\n",
       "      <td>335.0</td>\n",
       "      <td>6.0</td>\n",
       "      <td>MANUAL</td>\n",
       "      <td>rear wheel drive</td>\n",
       "      <td>2.0</td>\n",
       "      <td>Factory Tuner,Luxury,High-Performance</td>\n",
       "      <td>Compact</td>\n",
       "      <td>Coupe</td>\n",
       "      <td>26</td>\n",
       "      <td>19</td>\n",
       "      <td>3916</td>\n",
       "      <td>46135</td>\n",
       "    </tr>\n",
       "    <tr>\n",
       "      <th>1</th>\n",
       "      <td>BMW</td>\n",
       "      <td>1 Series</td>\n",
       "      <td>2011</td>\n",
       "      <td>premium unleaded (required)</td>\n",
       "      <td>300.0</td>\n",
       "      <td>6.0</td>\n",
       "      <td>MANUAL</td>\n",
       "      <td>rear wheel drive</td>\n",
       "      <td>2.0</td>\n",
       "      <td>Luxury,Performance</td>\n",
       "      <td>Compact</td>\n",
       "      <td>Convertible</td>\n",
       "      <td>28</td>\n",
       "      <td>19</td>\n",
       "      <td>3916</td>\n",
       "      <td>40650</td>\n",
       "    </tr>\n",
       "    <tr>\n",
       "      <th>2</th>\n",
       "      <td>BMW</td>\n",
       "      <td>1 Series</td>\n",
       "      <td>2011</td>\n",
       "      <td>premium unleaded (required)</td>\n",
       "      <td>300.0</td>\n",
       "      <td>6.0</td>\n",
       "      <td>MANUAL</td>\n",
       "      <td>rear wheel drive</td>\n",
       "      <td>2.0</td>\n",
       "      <td>Luxury,High-Performance</td>\n",
       "      <td>Compact</td>\n",
       "      <td>Coupe</td>\n",
       "      <td>28</td>\n",
       "      <td>20</td>\n",
       "      <td>3916</td>\n",
       "      <td>36350</td>\n",
       "    </tr>\n",
       "    <tr>\n",
       "      <th>3</th>\n",
       "      <td>BMW</td>\n",
       "      <td>1 Series</td>\n",
       "      <td>2011</td>\n",
       "      <td>premium unleaded (required)</td>\n",
       "      <td>230.0</td>\n",
       "      <td>6.0</td>\n",
       "      <td>MANUAL</td>\n",
       "      <td>rear wheel drive</td>\n",
       "      <td>2.0</td>\n",
       "      <td>Luxury,Performance</td>\n",
       "      <td>Compact</td>\n",
       "      <td>Coupe</td>\n",
       "      <td>28</td>\n",
       "      <td>18</td>\n",
       "      <td>3916</td>\n",
       "      <td>29450</td>\n",
       "    </tr>\n",
       "    <tr>\n",
       "      <th>4</th>\n",
       "      <td>BMW</td>\n",
       "      <td>1 Series</td>\n",
       "      <td>2011</td>\n",
       "      <td>premium unleaded (required)</td>\n",
       "      <td>230.0</td>\n",
       "      <td>6.0</td>\n",
       "      <td>MANUAL</td>\n",
       "      <td>rear wheel drive</td>\n",
       "      <td>2.0</td>\n",
       "      <td>Luxury</td>\n",
       "      <td>Compact</td>\n",
       "      <td>Convertible</td>\n",
       "      <td>28</td>\n",
       "      <td>18</td>\n",
       "      <td>3916</td>\n",
       "      <td>34500</td>\n",
       "    </tr>\n",
       "  </tbody>\n",
       "</table>\n",
       "</div>"
      ],
      "text/plain": [
       "  Make       Model  Year             Engine Fuel Type  Engine HP  \\\n",
       "0  BMW  1 Series M  2011  premium unleaded (required)      335.0   \n",
       "1  BMW    1 Series  2011  premium unleaded (required)      300.0   \n",
       "2  BMW    1 Series  2011  premium unleaded (required)      300.0   \n",
       "3  BMW    1 Series  2011  premium unleaded (required)      230.0   \n",
       "4  BMW    1 Series  2011  premium unleaded (required)      230.0   \n",
       "\n",
       "   Engine Cylinders Transmission Type     Driven_Wheels  Number of Doors  \\\n",
       "0               6.0            MANUAL  rear wheel drive              2.0   \n",
       "1               6.0            MANUAL  rear wheel drive              2.0   \n",
       "2               6.0            MANUAL  rear wheel drive              2.0   \n",
       "3               6.0            MANUAL  rear wheel drive              2.0   \n",
       "4               6.0            MANUAL  rear wheel drive              2.0   \n",
       "\n",
       "                         Market Category Vehicle Size Vehicle Style  \\\n",
       "0  Factory Tuner,Luxury,High-Performance      Compact         Coupe   \n",
       "1                     Luxury,Performance      Compact   Convertible   \n",
       "2                Luxury,High-Performance      Compact         Coupe   \n",
       "3                     Luxury,Performance      Compact         Coupe   \n",
       "4                                 Luxury      Compact   Convertible   \n",
       "\n",
       "   highway MPG  city mpg  Popularity   MSRP  \n",
       "0           26        19        3916  46135  \n",
       "1           28        19        3916  40650  \n",
       "2           28        20        3916  36350  \n",
       "3           28        18        3916  29450  \n",
       "4           28        18        3916  34500  "
      ]
     },
     "execution_count": 2,
     "metadata": {},
     "output_type": "execute_result"
    }
   ],
   "source": [
    "df = pd.read_csv('data/Cars_data.csv')\n",
    "df.head()"
   ]
  },
  {
   "cell_type": "code",
   "execution_count": 3,
   "id": "79ae5eb6-73e2-4cfc-a0fd-22ec2e437da0",
   "metadata": {},
   "outputs": [
    {
     "data": {
      "text/plain": [
       "(11914, 16)"
      ]
     },
     "metadata": {},
     "output_type": "display_data"
    },
    {
     "data": {
      "text/plain": [
       "Make                  object\n",
       "Model                 object\n",
       "Year                   int64\n",
       "Engine Fuel Type      object\n",
       "Engine HP            float64\n",
       "Engine Cylinders     float64\n",
       "Transmission Type     object\n",
       "Driven_Wheels         object\n",
       "Number of Doors      float64\n",
       "Market Category       object\n",
       "Vehicle Size          object\n",
       "Vehicle Style         object\n",
       "highway MPG            int64\n",
       "city mpg               int64\n",
       "Popularity             int64\n",
       "MSRP                   int64\n",
       "dtype: object"
      ]
     },
     "metadata": {},
     "output_type": "display_data"
    },
    {
     "data": {
      "text/html": [
       "<div>\n",
       "<style scoped>\n",
       "    .dataframe tbody tr th:only-of-type {\n",
       "        vertical-align: middle;\n",
       "    }\n",
       "\n",
       "    .dataframe tbody tr th {\n",
       "        vertical-align: top;\n",
       "    }\n",
       "\n",
       "    .dataframe thead th {\n",
       "        text-align: right;\n",
       "    }\n",
       "</style>\n",
       "<table border=\"1\" class=\"dataframe\">\n",
       "  <thead>\n",
       "    <tr style=\"text-align: right;\">\n",
       "      <th></th>\n",
       "      <th>Year</th>\n",
       "      <th>Engine HP</th>\n",
       "      <th>Engine Cylinders</th>\n",
       "      <th>Number of Doors</th>\n",
       "      <th>highway MPG</th>\n",
       "      <th>city mpg</th>\n",
       "      <th>Popularity</th>\n",
       "      <th>MSRP</th>\n",
       "    </tr>\n",
       "  </thead>\n",
       "  <tbody>\n",
       "    <tr>\n",
       "      <th>count</th>\n",
       "      <td>11914.000000</td>\n",
       "      <td>11845.00000</td>\n",
       "      <td>11884.000000</td>\n",
       "      <td>11908.000000</td>\n",
       "      <td>11914.000000</td>\n",
       "      <td>11914.000000</td>\n",
       "      <td>11914.000000</td>\n",
       "      <td>1.191400e+04</td>\n",
       "    </tr>\n",
       "    <tr>\n",
       "      <th>mean</th>\n",
       "      <td>2010.384338</td>\n",
       "      <td>249.38607</td>\n",
       "      <td>5.628829</td>\n",
       "      <td>3.436093</td>\n",
       "      <td>26.637485</td>\n",
       "      <td>19.733255</td>\n",
       "      <td>1554.911197</td>\n",
       "      <td>4.059474e+04</td>\n",
       "    </tr>\n",
       "    <tr>\n",
       "      <th>std</th>\n",
       "      <td>7.579740</td>\n",
       "      <td>109.19187</td>\n",
       "      <td>1.780559</td>\n",
       "      <td>0.881315</td>\n",
       "      <td>8.863001</td>\n",
       "      <td>8.987798</td>\n",
       "      <td>1441.855347</td>\n",
       "      <td>6.010910e+04</td>\n",
       "    </tr>\n",
       "    <tr>\n",
       "      <th>min</th>\n",
       "      <td>1990.000000</td>\n",
       "      <td>55.00000</td>\n",
       "      <td>0.000000</td>\n",
       "      <td>2.000000</td>\n",
       "      <td>12.000000</td>\n",
       "      <td>7.000000</td>\n",
       "      <td>2.000000</td>\n",
       "      <td>2.000000e+03</td>\n",
       "    </tr>\n",
       "    <tr>\n",
       "      <th>25%</th>\n",
       "      <td>2007.000000</td>\n",
       "      <td>170.00000</td>\n",
       "      <td>4.000000</td>\n",
       "      <td>2.000000</td>\n",
       "      <td>22.000000</td>\n",
       "      <td>16.000000</td>\n",
       "      <td>549.000000</td>\n",
       "      <td>2.100000e+04</td>\n",
       "    </tr>\n",
       "    <tr>\n",
       "      <th>50%</th>\n",
       "      <td>2015.000000</td>\n",
       "      <td>227.00000</td>\n",
       "      <td>6.000000</td>\n",
       "      <td>4.000000</td>\n",
       "      <td>26.000000</td>\n",
       "      <td>18.000000</td>\n",
       "      <td>1385.000000</td>\n",
       "      <td>2.999500e+04</td>\n",
       "    </tr>\n",
       "    <tr>\n",
       "      <th>75%</th>\n",
       "      <td>2016.000000</td>\n",
       "      <td>300.00000</td>\n",
       "      <td>6.000000</td>\n",
       "      <td>4.000000</td>\n",
       "      <td>30.000000</td>\n",
       "      <td>22.000000</td>\n",
       "      <td>2009.000000</td>\n",
       "      <td>4.223125e+04</td>\n",
       "    </tr>\n",
       "    <tr>\n",
       "      <th>max</th>\n",
       "      <td>2017.000000</td>\n",
       "      <td>1001.00000</td>\n",
       "      <td>16.000000</td>\n",
       "      <td>4.000000</td>\n",
       "      <td>354.000000</td>\n",
       "      <td>137.000000</td>\n",
       "      <td>5657.000000</td>\n",
       "      <td>2.065902e+06</td>\n",
       "    </tr>\n",
       "  </tbody>\n",
       "</table>\n",
       "</div>"
      ],
      "text/plain": [
       "               Year    Engine HP  Engine Cylinders  Number of Doors  \\\n",
       "count  11914.000000  11845.00000      11884.000000     11908.000000   \n",
       "mean    2010.384338    249.38607          5.628829         3.436093   \n",
       "std        7.579740    109.19187          1.780559         0.881315   \n",
       "min     1990.000000     55.00000          0.000000         2.000000   \n",
       "25%     2007.000000    170.00000          4.000000         2.000000   \n",
       "50%     2015.000000    227.00000          6.000000         4.000000   \n",
       "75%     2016.000000    300.00000          6.000000         4.000000   \n",
       "max     2017.000000   1001.00000         16.000000         4.000000   \n",
       "\n",
       "        highway MPG      city mpg    Popularity          MSRP  \n",
       "count  11914.000000  11914.000000  11914.000000  1.191400e+04  \n",
       "mean      26.637485     19.733255   1554.911197  4.059474e+04  \n",
       "std        8.863001      8.987798   1441.855347  6.010910e+04  \n",
       "min       12.000000      7.000000      2.000000  2.000000e+03  \n",
       "25%       22.000000     16.000000    549.000000  2.100000e+04  \n",
       "50%       26.000000     18.000000   1385.000000  2.999500e+04  \n",
       "75%       30.000000     22.000000   2009.000000  4.223125e+04  \n",
       "max      354.000000    137.000000   5657.000000  2.065902e+06  "
      ]
     },
     "metadata": {},
     "output_type": "display_data"
    }
   ],
   "source": [
    "display(df.shape)\n",
    "display(df.dtypes)\n",
    "display(df.describe())"
   ]
  },
  {
   "cell_type": "markdown",
   "id": "08cf814e-3fcf-4120-90fc-a395e31daefe",
   "metadata": {},
   "source": [
    "---\n",
    "## Dropping irrelevant columns"
   ]
  },
  {
   "cell_type": "code",
   "execution_count": 4,
   "id": "3e2ca3d6-fb6e-402b-83cb-24ea02809f24",
   "metadata": {},
   "outputs": [],
   "source": [
    "cols_to_drop = ['Engine Fuel Type','Market Category','Vehicle Style','Popularity','Number of Doors','Vehicle Size']\n",
    "\n",
    "df = df.drop(columns = cols_to_drop, axis=1)"
   ]
  },
  {
   "cell_type": "code",
   "execution_count": 5,
   "id": "45eb866e-6e9b-4706-abf9-febd70eea433",
   "metadata": {},
   "outputs": [
    {
     "data": {
      "text/html": [
       "<div>\n",
       "<style scoped>\n",
       "    .dataframe tbody tr th:only-of-type {\n",
       "        vertical-align: middle;\n",
       "    }\n",
       "\n",
       "    .dataframe tbody tr th {\n",
       "        vertical-align: top;\n",
       "    }\n",
       "\n",
       "    .dataframe thead th {\n",
       "        text-align: right;\n",
       "    }\n",
       "</style>\n",
       "<table border=\"1\" class=\"dataframe\">\n",
       "  <thead>\n",
       "    <tr style=\"text-align: right;\">\n",
       "      <th></th>\n",
       "      <th>Make</th>\n",
       "      <th>Model</th>\n",
       "      <th>Year</th>\n",
       "      <th>Engine HP</th>\n",
       "      <th>Engine Cylinders</th>\n",
       "      <th>Transmission Type</th>\n",
       "      <th>Driven_Wheels</th>\n",
       "      <th>highway MPG</th>\n",
       "      <th>city mpg</th>\n",
       "      <th>MSRP</th>\n",
       "    </tr>\n",
       "  </thead>\n",
       "  <tbody>\n",
       "    <tr>\n",
       "      <th>0</th>\n",
       "      <td>BMW</td>\n",
       "      <td>1 Series M</td>\n",
       "      <td>2011</td>\n",
       "      <td>335.0</td>\n",
       "      <td>6.0</td>\n",
       "      <td>MANUAL</td>\n",
       "      <td>rear wheel drive</td>\n",
       "      <td>26</td>\n",
       "      <td>19</td>\n",
       "      <td>46135</td>\n",
       "    </tr>\n",
       "    <tr>\n",
       "      <th>1</th>\n",
       "      <td>BMW</td>\n",
       "      <td>1 Series</td>\n",
       "      <td>2011</td>\n",
       "      <td>300.0</td>\n",
       "      <td>6.0</td>\n",
       "      <td>MANUAL</td>\n",
       "      <td>rear wheel drive</td>\n",
       "      <td>28</td>\n",
       "      <td>19</td>\n",
       "      <td>40650</td>\n",
       "    </tr>\n",
       "    <tr>\n",
       "      <th>2</th>\n",
       "      <td>BMW</td>\n",
       "      <td>1 Series</td>\n",
       "      <td>2011</td>\n",
       "      <td>300.0</td>\n",
       "      <td>6.0</td>\n",
       "      <td>MANUAL</td>\n",
       "      <td>rear wheel drive</td>\n",
       "      <td>28</td>\n",
       "      <td>20</td>\n",
       "      <td>36350</td>\n",
       "    </tr>\n",
       "    <tr>\n",
       "      <th>3</th>\n",
       "      <td>BMW</td>\n",
       "      <td>1 Series</td>\n",
       "      <td>2011</td>\n",
       "      <td>230.0</td>\n",
       "      <td>6.0</td>\n",
       "      <td>MANUAL</td>\n",
       "      <td>rear wheel drive</td>\n",
       "      <td>28</td>\n",
       "      <td>18</td>\n",
       "      <td>29450</td>\n",
       "    </tr>\n",
       "    <tr>\n",
       "      <th>4</th>\n",
       "      <td>BMW</td>\n",
       "      <td>1 Series</td>\n",
       "      <td>2011</td>\n",
       "      <td>230.0</td>\n",
       "      <td>6.0</td>\n",
       "      <td>MANUAL</td>\n",
       "      <td>rear wheel drive</td>\n",
       "      <td>28</td>\n",
       "      <td>18</td>\n",
       "      <td>34500</td>\n",
       "    </tr>\n",
       "  </tbody>\n",
       "</table>\n",
       "</div>"
      ],
      "text/plain": [
       "  Make       Model  Year  Engine HP  Engine Cylinders Transmission Type  \\\n",
       "0  BMW  1 Series M  2011      335.0               6.0            MANUAL   \n",
       "1  BMW    1 Series  2011      300.0               6.0            MANUAL   \n",
       "2  BMW    1 Series  2011      300.0               6.0            MANUAL   \n",
       "3  BMW    1 Series  2011      230.0               6.0            MANUAL   \n",
       "4  BMW    1 Series  2011      230.0               6.0            MANUAL   \n",
       "\n",
       "      Driven_Wheels  highway MPG  city mpg   MSRP  \n",
       "0  rear wheel drive           26        19  46135  \n",
       "1  rear wheel drive           28        19  40650  \n",
       "2  rear wheel drive           28        20  36350  \n",
       "3  rear wheel drive           28        18  29450  \n",
       "4  rear wheel drive           28        18  34500  "
      ]
     },
     "execution_count": 5,
     "metadata": {},
     "output_type": "execute_result"
    }
   ],
   "source": [
    "df.head()"
   ]
  },
  {
   "cell_type": "markdown",
   "id": "0e2a1b0f-9037-468b-9e1d-6f0cab97bdab",
   "metadata": {},
   "source": [
    "---\n",
    "## Renaming the columns for better readability"
   ]
  },
  {
   "cell_type": "code",
   "execution_count": 6,
   "id": "d6b6a242-9361-4835-a951-834bfdf4f887",
   "metadata": {},
   "outputs": [
    {
     "data": {
      "text/html": [
       "<div>\n",
       "<style scoped>\n",
       "    .dataframe tbody tr th:only-of-type {\n",
       "        vertical-align: middle;\n",
       "    }\n",
       "\n",
       "    .dataframe tbody tr th {\n",
       "        vertical-align: top;\n",
       "    }\n",
       "\n",
       "    .dataframe thead th {\n",
       "        text-align: right;\n",
       "    }\n",
       "</style>\n",
       "<table border=\"1\" class=\"dataframe\">\n",
       "  <thead>\n",
       "    <tr style=\"text-align: right;\">\n",
       "      <th></th>\n",
       "      <th>make</th>\n",
       "      <th>model</th>\n",
       "      <th>year</th>\n",
       "      <th>horsepower</th>\n",
       "      <th>cylinders</th>\n",
       "      <th>transmission</th>\n",
       "      <th>wheel_drive</th>\n",
       "      <th>hgwy_mpg</th>\n",
       "      <th>city_mpg</th>\n",
       "      <th>price</th>\n",
       "    </tr>\n",
       "  </thead>\n",
       "  <tbody>\n",
       "    <tr>\n",
       "      <th>0</th>\n",
       "      <td>BMW</td>\n",
       "      <td>1 Series M</td>\n",
       "      <td>2011</td>\n",
       "      <td>335.0</td>\n",
       "      <td>6.0</td>\n",
       "      <td>MANUAL</td>\n",
       "      <td>rear wheel drive</td>\n",
       "      <td>26</td>\n",
       "      <td>19</td>\n",
       "      <td>46135</td>\n",
       "    </tr>\n",
       "    <tr>\n",
       "      <th>1</th>\n",
       "      <td>BMW</td>\n",
       "      <td>1 Series</td>\n",
       "      <td>2011</td>\n",
       "      <td>300.0</td>\n",
       "      <td>6.0</td>\n",
       "      <td>MANUAL</td>\n",
       "      <td>rear wheel drive</td>\n",
       "      <td>28</td>\n",
       "      <td>19</td>\n",
       "      <td>40650</td>\n",
       "    </tr>\n",
       "    <tr>\n",
       "      <th>2</th>\n",
       "      <td>BMW</td>\n",
       "      <td>1 Series</td>\n",
       "      <td>2011</td>\n",
       "      <td>300.0</td>\n",
       "      <td>6.0</td>\n",
       "      <td>MANUAL</td>\n",
       "      <td>rear wheel drive</td>\n",
       "      <td>28</td>\n",
       "      <td>20</td>\n",
       "      <td>36350</td>\n",
       "    </tr>\n",
       "    <tr>\n",
       "      <th>3</th>\n",
       "      <td>BMW</td>\n",
       "      <td>1 Series</td>\n",
       "      <td>2011</td>\n",
       "      <td>230.0</td>\n",
       "      <td>6.0</td>\n",
       "      <td>MANUAL</td>\n",
       "      <td>rear wheel drive</td>\n",
       "      <td>28</td>\n",
       "      <td>18</td>\n",
       "      <td>29450</td>\n",
       "    </tr>\n",
       "    <tr>\n",
       "      <th>4</th>\n",
       "      <td>BMW</td>\n",
       "      <td>1 Series</td>\n",
       "      <td>2011</td>\n",
       "      <td>230.0</td>\n",
       "      <td>6.0</td>\n",
       "      <td>MANUAL</td>\n",
       "      <td>rear wheel drive</td>\n",
       "      <td>28</td>\n",
       "      <td>18</td>\n",
       "      <td>34500</td>\n",
       "    </tr>\n",
       "  </tbody>\n",
       "</table>\n",
       "</div>"
      ],
      "text/plain": [
       "  make       model  year  horsepower  cylinders transmission  \\\n",
       "0  BMW  1 Series M  2011       335.0        6.0       MANUAL   \n",
       "1  BMW    1 Series  2011       300.0        6.0       MANUAL   \n",
       "2  BMW    1 Series  2011       300.0        6.0       MANUAL   \n",
       "3  BMW    1 Series  2011       230.0        6.0       MANUAL   \n",
       "4  BMW    1 Series  2011       230.0        6.0       MANUAL   \n",
       "\n",
       "        wheel_drive  hgwy_mpg  city_mpg  price  \n",
       "0  rear wheel drive        26        19  46135  \n",
       "1  rear wheel drive        28        19  40650  \n",
       "2  rear wheel drive        28        20  36350  \n",
       "3  rear wheel drive        28        18  29450  \n",
       "4  rear wheel drive        28        18  34500  "
      ]
     },
     "execution_count": 6,
     "metadata": {},
     "output_type": "execute_result"
    }
   ],
   "source": [
    "renamed_cols = ['make','model','year','horsepower','cylinders','transmission','wheel_drive','hgwy_mpg','city_mpg','price']\n",
    "df.columns = renamed_cols\n",
    "df.head()"
   ]
  },
  {
   "cell_type": "markdown",
   "id": "7ae6d85f-5d5c-4b13-85a9-12b2c8e786f3",
   "metadata": {},
   "source": [
    "---\n",
    "## Dropping Duplicate rows & NULL values"
   ]
  },
  {
   "cell_type": "code",
   "execution_count": 7,
   "id": "d965d94c-3ca3-44f0-b9df-9ea37cdb9137",
   "metadata": {},
   "outputs": [
    {
     "name": "stdout",
     "output_type": "stream",
     "text": [
      "Number of Rows:  11914\n",
      "After Dropping Duplicates:  10925\n"
     ]
    }
   ],
   "source": [
    "print(\"Number of Rows: \",len(df))\n",
    "df = df.drop_duplicates()\n",
    "print(\"After Dropping Duplicates: \",len(df))"
   ]
  },
  {
   "cell_type": "code",
   "execution_count": 8,
   "id": "656cb7e3-e422-4a18-a887-58ac2364e929",
   "metadata": {},
   "outputs": [
    {
     "name": "stdout",
     "output_type": "stream",
     "text": [
      "make             0\n",
      "model            0\n",
      "year             0\n",
      "horsepower      69\n",
      "cylinders       30\n",
      "transmission     0\n",
      "wheel_drive      0\n",
      "hgwy_mpg         0\n",
      "city_mpg         0\n",
      "price            0\n",
      "dtype: int64\n"
     ]
    }
   ],
   "source": [
    "print(df.isnull().sum())\n",
    "df = df.dropna(subset=['horsepower','cylinders'])"
   ]
  },
  {
   "cell_type": "code",
   "execution_count": 9,
   "id": "48f9d29a-c75d-4128-bc47-27ed95089071",
   "metadata": {},
   "outputs": [
    {
     "name": "stdout",
     "output_type": "stream",
     "text": [
      "After Dropping NaNs:  10827\n",
      "make            0\n",
      "model           0\n",
      "year            0\n",
      "horsepower      0\n",
      "cylinders       0\n",
      "transmission    0\n",
      "wheel_drive     0\n",
      "hgwy_mpg        0\n",
      "city_mpg        0\n",
      "price           0\n",
      "dtype: int64\n"
     ]
    }
   ],
   "source": [
    "print(\"After Dropping NaNs: \",len(df))\n",
    "print(df.isnull().sum())"
   ]
  },
  {
   "cell_type": "markdown",
   "id": "f5ebdc73-5fca-4b9f-8590-a3124ee8a305",
   "metadata": {},
   "source": [
    "---\n",
    "## Removing Outliers"
   ]
  },
  {
   "cell_type": "code",
   "execution_count": 10,
   "id": "8ad663fb-f09b-4b01-bdec-014c71b7fdeb",
   "metadata": {},
   "outputs": [
    {
     "data": {
      "text/html": [
       "<div>\n",
       "<style scoped>\n",
       "    .dataframe tbody tr th:only-of-type {\n",
       "        vertical-align: middle;\n",
       "    }\n",
       "\n",
       "    .dataframe tbody tr th {\n",
       "        vertical-align: top;\n",
       "    }\n",
       "\n",
       "    .dataframe thead th {\n",
       "        text-align: right;\n",
       "    }\n",
       "</style>\n",
       "<table border=\"1\" class=\"dataframe\">\n",
       "  <thead>\n",
       "    <tr style=\"text-align: right;\">\n",
       "      <th></th>\n",
       "      <th>price</th>\n",
       "    </tr>\n",
       "  </thead>\n",
       "  <tbody>\n",
       "    <tr>\n",
       "      <th>0</th>\n",
       "      <td>46135</td>\n",
       "    </tr>\n",
       "    <tr>\n",
       "      <th>1</th>\n",
       "      <td>40650</td>\n",
       "    </tr>\n",
       "    <tr>\n",
       "      <th>2</th>\n",
       "      <td>36350</td>\n",
       "    </tr>\n",
       "    <tr>\n",
       "      <th>3</th>\n",
       "      <td>29450</td>\n",
       "    </tr>\n",
       "    <tr>\n",
       "      <th>4</th>\n",
       "      <td>34500</td>\n",
       "    </tr>\n",
       "    <tr>\n",
       "      <th>...</th>\n",
       "      <td>...</td>\n",
       "    </tr>\n",
       "    <tr>\n",
       "      <th>11909</th>\n",
       "      <td>46120</td>\n",
       "    </tr>\n",
       "    <tr>\n",
       "      <th>11910</th>\n",
       "      <td>56670</td>\n",
       "    </tr>\n",
       "    <tr>\n",
       "      <th>11911</th>\n",
       "      <td>50620</td>\n",
       "    </tr>\n",
       "    <tr>\n",
       "      <th>11912</th>\n",
       "      <td>50920</td>\n",
       "    </tr>\n",
       "    <tr>\n",
       "      <th>11913</th>\n",
       "      <td>28995</td>\n",
       "    </tr>\n",
       "  </tbody>\n",
       "</table>\n",
       "<p>10827 rows × 1 columns</p>\n",
       "</div>"
      ],
      "text/plain": [
       "       price\n",
       "0      46135\n",
       "1      40650\n",
       "2      36350\n",
       "3      29450\n",
       "4      34500\n",
       "...      ...\n",
       "11909  46120\n",
       "11910  56670\n",
       "11911  50620\n",
       "11912  50920\n",
       "11913  28995\n",
       "\n",
       "[10827 rows x 1 columns]"
      ]
     },
     "metadata": {},
     "output_type": "display_data"
    },
    {
     "name": "stdout",
     "output_type": "stream",
     "text": [
      "Q1 = 21972.5 \n",
      "Q2 = 30845.0 \n",
      "Q3 = 43300.0\n",
      "\n",
      "IQR =  21327.5\n",
      "Lower Bound = -10018.75 \n",
      "Upper Bound = 75291.25\n"
     ]
    }
   ],
   "source": [
    "# For the 'price' column\n",
    "display(df.iloc[:,9:10])\n",
    "Q1 = np.percentile(df['price'],25)\n",
    "Q2 = np.percentile(df['price'],50)\n",
    "Q3 = np.percentile(df['price'],75)\n",
    "print(f'''Q1 = {Q1} \\nQ2 = {Q2} \\nQ3 = {Q3}''')\n",
    "\n",
    "IQR = Q3 - Q1\n",
    "print(\"\\nIQR = \",IQR)\n",
    "\n",
    "low = Q1 - (1.5 * IQR)\n",
    "upp = Q3 + (1.5 * IQR)\n",
    "print(f\"Lower Bound = {low} \\nUpper Bound = {upp}\")"
   ]
  },
  {
   "cell_type": "code",
   "execution_count": 11,
   "id": "19281e52-d97b-47ee-8e1e-353672e397e7",
   "metadata": {},
   "outputs": [
    {
     "data": {
      "text/plain": [
       "<Axes: xlabel='price'>"
      ]
     },
     "execution_count": 11,
     "metadata": {},
     "output_type": "execute_result"
    },
    {
     "data": {
      "image/png": "[encoded data removed]",
      "text/plain": [
       "<Figure size 640x480 with 1 Axes>"
      ]
     },
     "metadata": {},
     "output_type": "display_data"
    }
   ],
   "source": [
    "sns.boxplot(x=df[\"price\"])\n",
    "# fig = plt.figure(figsize =(10, 7))\n",
    "# plt.boxplot(df['price'])\n",
    "# plt.show()"
   ]
  },
  {
   "cell_type": "code",
   "execution_count": 12,
   "id": "fc78cdcd-7f74-48b8-9f57-fd130e95c87a",
   "metadata": {},
   "outputs": [
    {
     "name": "stdout",
     "output_type": "stream",
     "text": [
      "The price column has 936 outliers\n",
      "\n",
      "[160829, 140615, 150694, 170829, 165986, 154090, 143860, 176287, 157767, 187124, 147332, 169900, 180408, 223970, 219775, 228625, 224585, 228625, 224585, 257412, 233509, 233509, 288000, 257412, 239340, 263553, 291744, 248500, 205840, 184900, 214670, 224670, 217890, 228339, 228339, 217890] ... and 900 more\n"
     ]
    }
   ],
   "source": [
    "outliers = []\n",
    "\n",
    "for i in df['price']:\n",
    "    if ((i>upp) or (i<low)):\n",
    "        outliers.append(i)\n",
    "\n",
    "print(f\"The price column has {len(outliers)} outliers\\n\")\n",
    "print(outliers[:36],\"... and 900 more\")"
   ]
  },
  {
   "cell_type": "markdown",
   "id": "a2bff7b2-fbd9-40ed-8985-ae0a35933be6",
   "metadata": {},
   "source": [
    "### Boxplot of 'price' column after removing outliers"
   ]
  },
  {
   "cell_type": "code",
   "execution_count": 13,
   "id": "9b3d6c60-77e7-4ef7-851d-c2d48c2a41c5",
   "metadata": {},
   "outputs": [
    {
     "data": {
      "text/plain": [
       "'Total rows after removing outliers:'"
      ]
     },
     "metadata": {},
     "output_type": "display_data"
    },
    {
     "data": {
      "text/plain": [
       "(9891, 10)"
      ]
     },
     "metadata": {},
     "output_type": "display_data"
    },
    {
     "data": {
      "text/plain": [
       "<Axes: xlabel='price'>"
      ]
     },
     "metadata": {},
     "output_type": "display_data"
    },
    {
     "data": {
      "image/png": "[encoded data removed]",
      "text/plain": [
       "<Figure size 640x480 with 1 Axes>"
      ]
     },
     "metadata": {},
     "output_type": "display_data"
    }
   ],
   "source": [
    "mask = ~df['price'].isin(outliers)\n",
    "df_filtered = df[mask]\n",
    "display('Total rows after removing outliers:',df_filtered.shape)\n",
    "display(sns.boxplot(x=df_filtered[\"price\"]))"
   ]
  },
  {
   "cell_type": "markdown",
   "id": "e6aed218-c89a-4db6-9eea-22c00ff696bd",
   "metadata": {},
   "source": [
    "---\n",
    "## Count of Unique values in each Column"
   ]
  },
  {
   "cell_type": "code",
   "execution_count": 14,
   "id": "df038d5f-42e9-4111-8824-17703fa6b39d",
   "metadata": {},
   "outputs": [
    {
     "data": {
      "text/plain": [
       "'Numeric columns'"
      ]
     },
     "metadata": {},
     "output_type": "display_data"
    },
    {
     "data": {
      "text/html": [
       "<div>\n",
       "<style scoped>\n",
       "    .dataframe tbody tr th:only-of-type {\n",
       "        vertical-align: middle;\n",
       "    }\n",
       "\n",
       "    .dataframe tbody tr th {\n",
       "        vertical-align: top;\n",
       "    }\n",
       "\n",
       "    .dataframe thead th {\n",
       "        text-align: right;\n",
       "    }\n",
       "</style>\n",
       "<table border=\"1\" class=\"dataframe\">\n",
       "  <thead>\n",
       "    <tr style=\"text-align: right;\">\n",
       "      <th></th>\n",
       "      <th>year</th>\n",
       "      <th>horsepower</th>\n",
       "      <th>cylinders</th>\n",
       "      <th>hgwy_mpg</th>\n",
       "      <th>city_mpg</th>\n",
       "      <th>price</th>\n",
       "    </tr>\n",
       "  </thead>\n",
       "  <tbody>\n",
       "    <tr>\n",
       "      <th>0</th>\n",
       "      <td>2011</td>\n",
       "      <td>335.0</td>\n",
       "      <td>6.0</td>\n",
       "      <td>26</td>\n",
       "      <td>19</td>\n",
       "      <td>46135</td>\n",
       "    </tr>\n",
       "    <tr>\n",
       "      <th>1</th>\n",
       "      <td>2011</td>\n",
       "      <td>300.0</td>\n",
       "      <td>6.0</td>\n",
       "      <td>28</td>\n",
       "      <td>19</td>\n",
       "      <td>40650</td>\n",
       "    </tr>\n",
       "    <tr>\n",
       "      <th>2</th>\n",
       "      <td>2011</td>\n",
       "      <td>300.0</td>\n",
       "      <td>6.0</td>\n",
       "      <td>28</td>\n",
       "      <td>20</td>\n",
       "      <td>36350</td>\n",
       "    </tr>\n",
       "    <tr>\n",
       "      <th>3</th>\n",
       "      <td>2011</td>\n",
       "      <td>230.0</td>\n",
       "      <td>6.0</td>\n",
       "      <td>28</td>\n",
       "      <td>18</td>\n",
       "      <td>29450</td>\n",
       "    </tr>\n",
       "    <tr>\n",
       "      <th>4</th>\n",
       "      <td>2011</td>\n",
       "      <td>230.0</td>\n",
       "      <td>6.0</td>\n",
       "      <td>28</td>\n",
       "      <td>18</td>\n",
       "      <td>34500</td>\n",
       "    </tr>\n",
       "  </tbody>\n",
       "</table>\n",
       "</div>"
      ],
      "text/plain": [
       "   year  horsepower  cylinders  hgwy_mpg  city_mpg  price\n",
       "0  2011       335.0        6.0        26        19  46135\n",
       "1  2011       300.0        6.0        28        19  40650\n",
       "2  2011       300.0        6.0        28        20  36350\n",
       "3  2011       230.0        6.0        28        18  29450\n",
       "4  2011       230.0        6.0        28        18  34500"
      ]
     },
     "metadata": {},
     "output_type": "display_data"
    },
    {
     "data": {
      "text/plain": [
       "'Non-Numeric columns'"
      ]
     },
     "metadata": {},
     "output_type": "display_data"
    },
    {
     "data": {
      "text/html": [
       "<div>\n",
       "<style scoped>\n",
       "    .dataframe tbody tr th:only-of-type {\n",
       "        vertical-align: middle;\n",
       "    }\n",
       "\n",
       "    .dataframe tbody tr th {\n",
       "        vertical-align: top;\n",
       "    }\n",
       "\n",
       "    .dataframe thead th {\n",
       "        text-align: right;\n",
       "    }\n",
       "</style>\n",
       "<table border=\"1\" class=\"dataframe\">\n",
       "  <thead>\n",
       "    <tr style=\"text-align: right;\">\n",
       "      <th></th>\n",
       "      <th>make</th>\n",
       "      <th>model</th>\n",
       "      <th>transmission</th>\n",
       "      <th>wheel_drive</th>\n",
       "    </tr>\n",
       "  </thead>\n",
       "  <tbody>\n",
       "    <tr>\n",
       "      <th>0</th>\n",
       "      <td>BMW</td>\n",
       "      <td>1 Series M</td>\n",
       "      <td>MANUAL</td>\n",
       "      <td>rear wheel drive</td>\n",
       "    </tr>\n",
       "    <tr>\n",
       "      <th>1</th>\n",
       "      <td>BMW</td>\n",
       "      <td>1 Series</td>\n",
       "      <td>MANUAL</td>\n",
       "      <td>rear wheel drive</td>\n",
       "    </tr>\n",
       "    <tr>\n",
       "      <th>2</th>\n",
       "      <td>BMW</td>\n",
       "      <td>1 Series</td>\n",
       "      <td>MANUAL</td>\n",
       "      <td>rear wheel drive</td>\n",
       "    </tr>\n",
       "    <tr>\n",
       "      <th>3</th>\n",
       "      <td>BMW</td>\n",
       "      <td>1 Series</td>\n",
       "      <td>MANUAL</td>\n",
       "      <td>rear wheel drive</td>\n",
       "    </tr>\n",
       "    <tr>\n",
       "      <th>4</th>\n",
       "      <td>BMW</td>\n",
       "      <td>1 Series</td>\n",
       "      <td>MANUAL</td>\n",
       "      <td>rear wheel drive</td>\n",
       "    </tr>\n",
       "  </tbody>\n",
       "</table>\n",
       "</div>"
      ],
      "text/plain": [
       "  make       model transmission       wheel_drive\n",
       "0  BMW  1 Series M       MANUAL  rear wheel drive\n",
       "1  BMW    1 Series       MANUAL  rear wheel drive\n",
       "2  BMW    1 Series       MANUAL  rear wheel drive\n",
       "3  BMW    1 Series       MANUAL  rear wheel drive\n",
       "4  BMW    1 Series       MANUAL  rear wheel drive"
      ]
     },
     "metadata": {},
     "output_type": "display_data"
    }
   ],
   "source": [
    "numeric_cols = df.select_dtypes(include=['int','float'])\n",
    "display('Numeric columns',numeric_cols.head())\n",
    "# display(df.loc[:,numeric_cols.columns])\n",
    "text_cols = df.select_dtypes(include=['object'])\n",
    "# display(df.loc[:,text_cols.columns])\n",
    "display('Non-Numeric columns',text_cols.head())"
   ]
  },
  {
   "cell_type": "code",
   "execution_count": 15,
   "id": "dd59623f-7947-42ad-8d28-747e60760944",
   "metadata": {},
   "outputs": [
    {
     "name": "stdout",
     "output_type": "stream",
     "text": [
      "--------------- make ----------------\n",
      "make\n",
      "Chevrolet        1043\n",
      "Ford              798\n",
      "Toyota            651\n",
      "Volkswagen        563\n",
      "Nissan            540\n",
      "Dodge             513\n",
      "GMC               475\n",
      "Honda             429\n",
      "Cadillac          396\n",
      "Mazda             392\n",
      "Mercedes-Benz     340\n",
      "Suzuki            338\n",
      "Infiniti          326\n",
      "BMW               324\n",
      "Audi              320\n",
      "Hyundai           254\n",
      "Acura             246\n",
      "Volvo             241\n",
      "Subaru            229\n",
      "Kia               219\n",
      "Mitsubishi        202\n",
      "Lexus             201\n",
      "Chrysler          185\n",
      "Buick             184\n",
      "Pontiac           163\n",
      "Lincoln           152\n",
      "Porsche           134\n",
      "Land Rover        126\n",
      "Oldsmobile        111\n",
      "Saab              101\n",
      "Aston Martin       91\n",
      "Bentley            74\n",
      "Ferrari            69\n",
      "Plymouth           62\n",
      "Scion              60\n",
      "FIAT               58\n",
      "Maserati           55\n",
      "Lamborghini        52\n",
      "Rolls-Royce        31\n",
      "Lotus              28\n",
      "HUMMER             17\n",
      "Maybach            16\n",
      "McLaren             5\n",
      "Alfa Romeo          5\n",
      "Genesis             3\n",
      "Bugatti             3\n",
      "Spyker              2\n",
      "Name: count, dtype: int64\n",
      "\n",
      "\n",
      "--------------- model ----------------\n",
      "model\n",
      "Silverado 1500    156\n",
      "F-150             126\n",
      "Sierra 1500        90\n",
      "Tundra             78\n",
      "Frontier           76\n",
      "                 ... \n",
      "M4 GTS              1\n",
      "LFA                 1\n",
      "Horizon             1\n",
      "GS F                1\n",
      "Zephyr              1\n",
      "Name: count, Length: 904, dtype: int64\n",
      "\n",
      "\n",
      "--------------- year ----------------\n",
      "year\n",
      "2015    2029\n",
      "2016    2022\n",
      "2017    1580\n",
      "2014     530\n",
      "2012     350\n",
      "2009     349\n",
      "2007     332\n",
      "2013     320\n",
      "2008     316\n",
      "2011     278\n",
      "2010     272\n",
      "2003     233\n",
      "2004     230\n",
      "2005     205\n",
      "2002     203\n",
      "2006     194\n",
      "2001     168\n",
      "1997     148\n",
      "1998     143\n",
      "1993     135\n",
      "2000     114\n",
      "1999     111\n",
      "1994     109\n",
      "1992     104\n",
      "1995     103\n",
      "1996      98\n",
      "1991      84\n",
      "1990      67\n",
      "Name: count, dtype: int64\n",
      "\n",
      "\n",
      "--------------- horsepower ----------------\n",
      "horsepower\n",
      "200.0    373\n",
      "170.0    255\n",
      "240.0    248\n",
      "285.0    246\n",
      "210.0    243\n",
      "        ... \n",
      "557.0      1\n",
      "361.0      1\n",
      "456.0      1\n",
      "661.0      1\n",
      "151.0      1\n",
      "Name: count, Length: 355, dtype: int64\n",
      "\n",
      "\n",
      "--------------- cylinders ----------------\n",
      "cylinders\n",
      "4.0     4227\n",
      "6.0     4215\n",
      "8.0     1889\n",
      "12.0     228\n",
      "5.0      159\n",
      "10.0      65\n",
      "3.0       28\n",
      "0.0       13\n",
      "16.0       3\n",
      "Name: count, dtype: int64\n",
      "\n",
      "\n",
      "--------------- transmission ----------------\n",
      "transmission\n",
      "AUTOMATIC           7750\n",
      "MANUAL              2498\n",
      "AUTOMATED_MANUAL     553\n",
      "DIRECT_DRIVE          15\n",
      "UNKNOWN               11\n",
      "Name: count, dtype: int64\n",
      "\n",
      "\n",
      "--------------- wheel_drive ----------------\n",
      "wheel_drive\n",
      "front wheel drive    4168\n",
      "rear wheel drive     3120\n",
      "all wheel drive      2281\n",
      "four wheel drive     1258\n",
      "Name: count, dtype: int64\n",
      "\n",
      "\n",
      "--------------- hgwy_mpg ----------------\n",
      "hgwy_mpg\n",
      "24     822\n",
      "23     758\n",
      "26     725\n",
      "22     686\n",
      "25     685\n",
      "28     651\n",
      "27     555\n",
      "30     499\n",
      "21     488\n",
      "19     488\n",
      "31     488\n",
      "20     469\n",
      "29     425\n",
      "18     345\n",
      "17     340\n",
      "33     329\n",
      "32     292\n",
      "34     270\n",
      "16     199\n",
      "35     199\n",
      "36     191\n",
      "37     166\n",
      "38     130\n",
      "15     116\n",
      "40     109\n",
      "39     107\n",
      "41      65\n",
      "42      46\n",
      "14      37\n",
      "43      21\n",
      "46      21\n",
      "44      21\n",
      "48      16\n",
      "45      14\n",
      "13      13\n",
      "50      10\n",
      "47       7\n",
      "109      6\n",
      "12       5\n",
      "53       5\n",
      "82       3\n",
      "111      3\n",
      "354      1\n",
      "106      1\n",
      "Name: count, dtype: int64\n",
      "\n",
      "\n",
      "--------------- city_mpg ----------------\n",
      "city_mpg\n",
      "17     1154\n",
      "16     1014\n",
      "15      949\n",
      "18      938\n",
      "19      793\n",
      "20      742\n",
      "14      603\n",
      "22      571\n",
      "21      551\n",
      "13      537\n",
      "23      425\n",
      "25      392\n",
      "24      372\n",
      "12      282\n",
      "27      243\n",
      "26      207\n",
      "11      187\n",
      "28      160\n",
      "30      127\n",
      "31      116\n",
      "29       98\n",
      "10       76\n",
      "9        33\n",
      "32       21\n",
      "34       20\n",
      "36       20\n",
      "40       19\n",
      "44       18\n",
      "42       17\n",
      "41       17\n",
      "35       15\n",
      "33       13\n",
      "53       13\n",
      "43       13\n",
      "54       10\n",
      "8         9\n",
      "37        8\n",
      "39        6\n",
      "51        6\n",
      "50        6\n",
      "128       6\n",
      "49        4\n",
      "137       3\n",
      "85        3\n",
      "55        3\n",
      "47        2\n",
      "58        2\n",
      "129       1\n",
      "7         1\n",
      "38        1\n",
      "Name: count, dtype: int64\n",
      "\n",
      "\n",
      "--------------- price ----------------\n",
      "price\n",
      "2000     599\n",
      "29995     18\n",
      "25995     16\n",
      "20995     15\n",
      "27995     15\n",
      "        ... \n",
      "66347      1\n",
      "62860      1\n",
      "48936      1\n",
      "68996      1\n",
      "50920      1\n",
      "Name: count, Length: 6014, dtype: int64\n",
      "\n",
      "\n"
     ]
    }
   ],
   "source": [
    "for i in df.columns:\n",
    "    print (\"--------------- %s ----------------\" % i)\n",
    "    print(df[i].value_counts())\n",
    "    print(\"\\n\")"
   ]
  },
  {
   "cell_type": "markdown",
   "id": "8f37bc6a-de46-4c73-9ad9-43e66e4af0bd",
   "metadata": {},
   "source": [
    "---\n",
    "# Visualisations"
   ]
  },
  {
   "cell_type": "markdown",
   "id": "a6ac06f5-01a3-46bd-a648-a9ef7579fc53",
   "metadata": {},
   "source": [
    "---\n",
    "## Histogram of Horsepower Count"
   ]
  },
  {
   "cell_type": "code",
   "execution_count": 16,
   "id": "a063c7a5-f262-487d-a515-4bb85fe6b6cc",
   "metadata": {},
   "outputs": [
    {
     "data": {
      "image/png": "[encoded data removed]",
      "text/plain": [
       "<Figure size 640x480 with 1 Axes>"
      ]
     },
     "metadata": {},
     "output_type": "display_data"
    }
   ],
   "source": [
    "sns.histplot(df['horsepower'],kde=True)\n",
    "plt.xlabel(\"Horsepower\")\n",
    "plt.ylabel(\"Count of Horsepower\")\n",
    "plt.show()"
   ]
  },
  {
   "cell_type": "markdown",
   "id": "5bf948e7-3037-4275-95a6-4655f49ae2e3",
   "metadata": {},
   "source": [
    "---\n",
    "## Barplot of Cars by Manufacturer"
   ]
  },
  {
   "cell_type": "code",
   "execution_count": 17,
   "id": "78cc1697-763c-43a1-9677-bc20d08b19fd",
   "metadata": {},
   "outputs": [
    {
     "data": {
      "image/png": "[encoded data removed]",
      "text/plain": [
       "<Figure size 800x600 with 1 Axes>"
      ]
     },
     "metadata": {},
     "output_type": "display_data"
    }
   ],
   "source": [
    "car_counts = df['make'].value_counts()\n",
    "top_5_cars = car_counts.nlargest(10).reset_index()\n",
    "\n",
    "plt.figure(figsize=(8, 6))\n",
    "sns.barplot(data=top_5_cars, x='make', y='count', palette='Spectral')\n",
    "# plt.bar(top_5_cars.index, top_5_cars.values, linewidth = 2) \n",
    "\n",
    "plt.title('Number of Cars by Make')\n",
    "plt.xlabel('Manufacturer')\n",
    "plt.ylabel('Number of Cars')\n",
    "\n",
    "plt.tight_layout()\n",
    "plt.show()"
   ]
  },
  {
   "cell_type": "markdown",
   "id": "94b9c6b9-6f94-435c-9058-eb068419dd99",
   "metadata": {},
   "source": [
    "---\n",
    "## Countplot of Transmission type with Drivemode as Hue"
   ]
  },
  {
   "cell_type": "code",
   "execution_count": 18,
   "id": "f1f0fc9e-c2f6-4041-bf55-ebc93a292926",
   "metadata": {},
   "outputs": [
    {
     "data": {
      "image/png": "[encoded data removed]",
      "text/plain": [
       "<Figure size 1500x500 with 1 Axes>"
      ]
     },
     "metadata": {},
     "output_type": "display_data"
    }
   ],
   "source": [
    "plt.figure(figsize=(15,5))\n",
    "sns.countplot(df, x=\"transmission\", hue=\"wheel_drive\", palette='muted')\n",
    "\n",
    "plt.title('Transmission Counts by Drive Mode')\n",
    "plt.xlabel('Transmission Type')\n",
    "plt.ylabel('Number of Cars')\n",
    "plt.legend(title='Drive Mode')\n",
    "\n",
    "plt.tight_layout()\n",
    "plt.show()"
   ]
  },
  {
   "cell_type": "markdown",
   "id": "ea28f7a5-5c6c-44a3-ad35-3f0a2be8f388",
   "metadata": {},
   "source": [
    "---\n",
    "## Scatterplot of Horsepower by Retail Price"
   ]
  },
  {
   "cell_type": "code",
   "execution_count": 19,
   "id": "b810031a-1d66-4177-899d-d911f19aa653",
   "metadata": {},
   "outputs": [
    {
     "data": {
      "text/html": [
       "<div>\n",
       "<style scoped>\n",
       "    .dataframe tbody tr th:only-of-type {\n",
       "        vertical-align: middle;\n",
       "    }\n",
       "\n",
       "    .dataframe tbody tr th {\n",
       "        vertical-align: top;\n",
       "    }\n",
       "\n",
       "    .dataframe thead th {\n",
       "        text-align: right;\n",
       "    }\n",
       "</style>\n",
       "<table border=\"1\" class=\"dataframe\">\n",
       "  <thead>\n",
       "    <tr style=\"text-align: right;\">\n",
       "      <th></th>\n",
       "      <th>horsepower</th>\n",
       "      <th>price</th>\n",
       "    </tr>\n",
       "  </thead>\n",
       "  <tbody>\n",
       "    <tr>\n",
       "      <th>0</th>\n",
       "      <td>335.0</td>\n",
       "      <td>46135</td>\n",
       "    </tr>\n",
       "    <tr>\n",
       "      <th>1</th>\n",
       "      <td>300.0</td>\n",
       "      <td>40650</td>\n",
       "    </tr>\n",
       "    <tr>\n",
       "      <th>2</th>\n",
       "      <td>300.0</td>\n",
       "      <td>36350</td>\n",
       "    </tr>\n",
       "    <tr>\n",
       "      <th>3</th>\n",
       "      <td>230.0</td>\n",
       "      <td>29450</td>\n",
       "    </tr>\n",
       "    <tr>\n",
       "      <th>4</th>\n",
       "      <td>230.0</td>\n",
       "      <td>34500</td>\n",
       "    </tr>\n",
       "  </tbody>\n",
       "</table>\n",
       "</div>"
      ],
      "text/plain": [
       "   horsepower  price\n",
       "0       335.0  46135\n",
       "1       300.0  40650\n",
       "2       300.0  36350\n",
       "3       230.0  29450\n",
       "4       230.0  34500"
      ]
     },
     "execution_count": 19,
     "metadata": {},
     "output_type": "execute_result"
    }
   ],
   "source": [
    "df[['horsepower', 'price']].head()"
   ]
  },
  {
   "cell_type": "code",
   "execution_count": 20,
   "id": "c229d76d-ecf1-45f8-b545-be02da5c3dc2",
   "metadata": {},
   "outputs": [
    {
     "data": {
      "image/png": "[encoded data removed]",
      "text/plain": [
       "<Figure size 640x480 with 1 Axes>"
      ]
     },
     "metadata": {},
     "output_type": "display_data"
    }
   ],
   "source": [
    "sns.scatterplot(data=df,x='horsepower', y='price')\n",
    "\n",
    "plt.xlabel('Horsepower')\n",
    "plt.ylabel('Retail Price')\n",
    "plt.title('Scatter plot of Horsepower by Price')\n",
    "\n",
    "plt.tight_layout()\n",
    "plt.show()"
   ]
  },
  {
   "cell_type": "markdown",
   "id": "949119e2-ee71-4d3c-a2a3-24083187bf81",
   "metadata": {},
   "source": [
    "---\n",
    "## Bar plot of No. of Cylinders by Retail Price"
   ]
  },
  {
   "cell_type": "code",
   "execution_count": 21,
   "id": "57828a8a-593a-4f58-bf3c-f905658f0cb0",
   "metadata": {},
   "outputs": [
    {
     "data": {
      "text/html": [
       "<div>\n",
       "<style scoped>\n",
       "    .dataframe tbody tr th:only-of-type {\n",
       "        vertical-align: middle;\n",
       "    }\n",
       "\n",
       "    .dataframe tbody tr th {\n",
       "        vertical-align: top;\n",
       "    }\n",
       "\n",
       "    .dataframe thead th {\n",
       "        text-align: right;\n",
       "    }\n",
       "</style>\n",
       "<table border=\"1\" class=\"dataframe\">\n",
       "  <thead>\n",
       "    <tr style=\"text-align: right;\">\n",
       "      <th></th>\n",
       "      <th>cylinders</th>\n",
       "      <th>price</th>\n",
       "    </tr>\n",
       "  </thead>\n",
       "  <tbody>\n",
       "    <tr>\n",
       "      <th>0</th>\n",
       "      <td>6.0</td>\n",
       "      <td>46135</td>\n",
       "    </tr>\n",
       "    <tr>\n",
       "      <th>1</th>\n",
       "      <td>6.0</td>\n",
       "      <td>40650</td>\n",
       "    </tr>\n",
       "    <tr>\n",
       "      <th>2</th>\n",
       "      <td>6.0</td>\n",
       "      <td>36350</td>\n",
       "    </tr>\n",
       "    <tr>\n",
       "      <th>3</th>\n",
       "      <td>6.0</td>\n",
       "      <td>29450</td>\n",
       "    </tr>\n",
       "    <tr>\n",
       "      <th>4</th>\n",
       "      <td>6.0</td>\n",
       "      <td>34500</td>\n",
       "    </tr>\n",
       "  </tbody>\n",
       "</table>\n",
       "</div>"
      ],
      "text/plain": [
       "   cylinders  price\n",
       "0        6.0  46135\n",
       "1        6.0  40650\n",
       "2        6.0  36350\n",
       "3        6.0  29450\n",
       "4        6.0  34500"
      ]
     },
     "execution_count": 21,
     "metadata": {},
     "output_type": "execute_result"
    }
   ],
   "source": [
    "df[['cylinders','price']].head()"
   ]
  },
  {
   "cell_type": "code",
   "execution_count": 22,
   "id": "a95f2d35-7404-46ee-89a6-f2eafaa74c4c",
   "metadata": {},
   "outputs": [
    {
     "data": {
      "image/png": "[encoded data removed]",
      "text/plain": [
       "<Figure size 640x480 with 1 Axes>"
      ]
     },
     "metadata": {},
     "output_type": "display_data"
    }
   ],
   "source": [
    "sns.barplot(data=df, x='cylinders', y='price', palette='coolwarm', edgecolor='black')\n",
    "\n",
    "plt.title(\"Bar plot of Cylinders by Price\")\n",
    "plt.xlabel(\"No. of Cylinders\")\n",
    "plt.ylabel(\"retail Price of the Cars\")\n",
    "\n",
    "plt.tight_layout()\n",
    "plt.show()"
   ]
  },
  {
   "cell_type": "markdown",
   "id": "1c50fd81-5b38-422e-b217-a7661b2aaff5",
   "metadata": {},
   "source": [
    "---\n",
    "## Heatmap of the Cars Dataset"
   ]
  },
  {
   "cell_type": "code",
   "execution_count": 23,
   "id": "a552baa6-e7ff-4dbc-ab79-8cd49a8b20c7",
   "metadata": {},
   "outputs": [
    {
     "data": {
      "image/png": "[encoded data removed]",
      "text/plain": [
       "<Figure size 640x480 with 2 Axes>"
      ]
     },
     "metadata": {},
     "output_type": "display_data"
    }
   ],
   "source": [
    "corr = numeric_cols.corr()\n",
    "# print(corr)\n",
    "sns.heatmap(corr, cmap='rocket', annot=True)\n",
    "plt.title('Correlation Heatmap of Cars Dataset')\n",
    "\n",
    "plt.show() "
   ]
  }
 ],
 "metadata": {
  "kernelspec": {
   "display_name": "Python 3 (ipykernel)",
   "language": "python",
   "name": "python3"
  },
  "language_info": {
   "codemirror_mode": {
    "name": "ipython",
    "version": 3
   },
   "file_extension": ".py",
   "mimetype": "text/x-python",
   "name": "python",
   "nbconvert_exporter": "python",
   "pygments_lexer": "ipython3",
   "version": "3.13.5"
  }
 },
 "nbformat": 4,
 "nbformat_minor": 5
}
